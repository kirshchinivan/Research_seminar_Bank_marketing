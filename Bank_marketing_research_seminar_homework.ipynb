{
  "cells": [
    {
      "cell_type": "markdown",
      "metadata": {
        "id": "fiBCX5h8URYw"
      },
      "source": [
        "# Loading Data"
      ]
    },
    {
      "cell_type": "code",
      "execution_count": 235,
      "metadata": {
        "id": "gGiSyM_cKf-J"
      },
      "outputs": [],
      "source": [
        "from ucimlrepo import fetch_ucirepo\n",
        "import pandas as pd\n",
        "import numpy as np\n",
        "import matplotlib.pyplot as plt\n",
        "import seaborn as sns\n",
        "from sklearn.model_selection import train_test_split"
      ]
    },
    {
      "cell_type": "code",
      "execution_count": 236,
      "metadata": {
        "id": "jq4NHFVzJ9UI"
      },
      "outputs": [],
      "source": [
        "bank_marketing = fetch_ucirepo(id=222)\n",
        "\n",
        "X = bank_marketing.data.features\n",
        "y = bank_marketing.data.targets['y']"
      ]
    },
    {
      "cell_type": "markdown",
      "metadata": {
        "id": "IbdeDlSVC440"
      },
      "source": [
        "Делим выборку на train и test.\n"
      ]
    },
    {
      "cell_type": "code",
      "execution_count": 237,
      "metadata": {
        "id": "qmG1HAtgZM0g"
      },
      "outputs": [],
      "source": [
        "X_train, X_test, y_train, y_test = train_test_split(X, y, test_size=0.2, random_state=228)"
      ]
    },
    {
      "cell_type": "markdown",
      "metadata": {
        "id": "jlWj8WBEUgSE"
      },
      "source": [
        "# Exploratory Data Analysis"
      ]
    },
    {
      "cell_type": "code",
      "execution_count": 238,
      "metadata": {
        "colab": {
          "base_uri": "https://localhost:8080/",
          "height": 206
        },
        "id": "xCxZHyUSU9Z1",
        "outputId": "a5e256c8-9e28-424b-81a0-6d1928143ded"
      },
      "outputs": [
        {
          "output_type": "execute_result",
          "data": {
            "text/plain": [
              "       age          job   marital  education default  balance housing loan  \\\n",
              "44059   37  blue-collar   married  secondary      no      195     yes   no   \n",
              "43984   37       admin.  divorced  secondary      no      450     yes  yes   \n",
              "36608   44  blue-collar    single  secondary      no       25     yes   no   \n",
              "26978   39  blue-collar    single  secondary      no     4619      no   no   \n",
              "29496   29       admin.  divorced  secondary      no      120      no  yes   \n",
              "\n",
              "        contact  day_of_week month  duration  campaign  pdays  previous  \\\n",
              "44059       NaN            1   jul        10         1     -1         0   \n",
              "43984       NaN           24   jun        15         1     -1         0   \n",
              "36608  cellular           12   may       244         3     -1         0   \n",
              "26978  cellular           21   nov       104         1     -1         0   \n",
              "29496  cellular            3   feb       197         1     -1         0   \n",
              "\n",
              "      poutcome  \n",
              "44059      NaN  \n",
              "43984      NaN  \n",
              "36608      NaN  \n",
              "26978      NaN  \n",
              "29496      NaN  "
            ],
            "text/html": [
              "\n",
              "  <div id=\"df-73dc6d7e-f456-4541-a117-fd595ac7f0f7\" class=\"colab-df-container\">\n",
              "    <div>\n",
              "<style scoped>\n",
              "    .dataframe tbody tr th:only-of-type {\n",
              "        vertical-align: middle;\n",
              "    }\n",
              "\n",
              "    .dataframe tbody tr th {\n",
              "        vertical-align: top;\n",
              "    }\n",
              "\n",
              "    .dataframe thead th {\n",
              "        text-align: right;\n",
              "    }\n",
              "</style>\n",
              "<table border=\"1\" class=\"dataframe\">\n",
              "  <thead>\n",
              "    <tr style=\"text-align: right;\">\n",
              "      <th></th>\n",
              "      <th>age</th>\n",
              "      <th>job</th>\n",
              "      <th>marital</th>\n",
              "      <th>education</th>\n",
              "      <th>default</th>\n",
              "      <th>balance</th>\n",
              "      <th>housing</th>\n",
              "      <th>loan</th>\n",
              "      <th>contact</th>\n",
              "      <th>day_of_week</th>\n",
              "      <th>month</th>\n",
              "      <th>duration</th>\n",
              "      <th>campaign</th>\n",
              "      <th>pdays</th>\n",
              "      <th>previous</th>\n",
              "      <th>poutcome</th>\n",
              "    </tr>\n",
              "  </thead>\n",
              "  <tbody>\n",
              "    <tr>\n",
              "      <th>44059</th>\n",
              "      <td>37</td>\n",
              "      <td>blue-collar</td>\n",
              "      <td>married</td>\n",
              "      <td>secondary</td>\n",
              "      <td>no</td>\n",
              "      <td>195</td>\n",
              "      <td>yes</td>\n",
              "      <td>no</td>\n",
              "      <td>NaN</td>\n",
              "      <td>1</td>\n",
              "      <td>jul</td>\n",
              "      <td>10</td>\n",
              "      <td>1</td>\n",
              "      <td>-1</td>\n",
              "      <td>0</td>\n",
              "      <td>NaN</td>\n",
              "    </tr>\n",
              "    <tr>\n",
              "      <th>43984</th>\n",
              "      <td>37</td>\n",
              "      <td>admin.</td>\n",
              "      <td>divorced</td>\n",
              "      <td>secondary</td>\n",
              "      <td>no</td>\n",
              "      <td>450</td>\n",
              "      <td>yes</td>\n",
              "      <td>yes</td>\n",
              "      <td>NaN</td>\n",
              "      <td>24</td>\n",
              "      <td>jun</td>\n",
              "      <td>15</td>\n",
              "      <td>1</td>\n",
              "      <td>-1</td>\n",
              "      <td>0</td>\n",
              "      <td>NaN</td>\n",
              "    </tr>\n",
              "    <tr>\n",
              "      <th>36608</th>\n",
              "      <td>44</td>\n",
              "      <td>blue-collar</td>\n",
              "      <td>single</td>\n",
              "      <td>secondary</td>\n",
              "      <td>no</td>\n",
              "      <td>25</td>\n",
              "      <td>yes</td>\n",
              "      <td>no</td>\n",
              "      <td>cellular</td>\n",
              "      <td>12</td>\n",
              "      <td>may</td>\n",
              "      <td>244</td>\n",
              "      <td>3</td>\n",
              "      <td>-1</td>\n",
              "      <td>0</td>\n",
              "      <td>NaN</td>\n",
              "    </tr>\n",
              "    <tr>\n",
              "      <th>26978</th>\n",
              "      <td>39</td>\n",
              "      <td>blue-collar</td>\n",
              "      <td>single</td>\n",
              "      <td>secondary</td>\n",
              "      <td>no</td>\n",
              "      <td>4619</td>\n",
              "      <td>no</td>\n",
              "      <td>no</td>\n",
              "      <td>cellular</td>\n",
              "      <td>21</td>\n",
              "      <td>nov</td>\n",
              "      <td>104</td>\n",
              "      <td>1</td>\n",
              "      <td>-1</td>\n",
              "      <td>0</td>\n",
              "      <td>NaN</td>\n",
              "    </tr>\n",
              "    <tr>\n",
              "      <th>29496</th>\n",
              "      <td>29</td>\n",
              "      <td>admin.</td>\n",
              "      <td>divorced</td>\n",
              "      <td>secondary</td>\n",
              "      <td>no</td>\n",
              "      <td>120</td>\n",
              "      <td>no</td>\n",
              "      <td>yes</td>\n",
              "      <td>cellular</td>\n",
              "      <td>3</td>\n",
              "      <td>feb</td>\n",
              "      <td>197</td>\n",
              "      <td>1</td>\n",
              "      <td>-1</td>\n",
              "      <td>0</td>\n",
              "      <td>NaN</td>\n",
              "    </tr>\n",
              "  </tbody>\n",
              "</table>\n",
              "</div>\n",
              "    <div class=\"colab-df-buttons\">\n",
              "\n",
              "  <div class=\"colab-df-container\">\n",
              "    <button class=\"colab-df-convert\" onclick=\"convertToInteractive('df-73dc6d7e-f456-4541-a117-fd595ac7f0f7')\"\n",
              "            title=\"Convert this dataframe to an interactive table.\"\n",
              "            style=\"display:none;\">\n",
              "\n",
              "  <svg xmlns=\"http://www.w3.org/2000/svg\" height=\"24px\" viewBox=\"0 -960 960 960\">\n",
              "    <path d=\"M120-120v-720h720v720H120Zm60-500h600v-160H180v160Zm220 220h160v-160H400v160Zm0 220h160v-160H400v160ZM180-400h160v-160H180v160Zm440 0h160v-160H620v160ZM180-180h160v-160H180v160Zm440 0h160v-160H620v160Z\"/>\n",
              "  </svg>\n",
              "    </button>\n",
              "\n",
              "  <style>\n",
              "    .colab-df-container {\n",
              "      display:flex;\n",
              "      gap: 12px;\n",
              "    }\n",
              "\n",
              "    .colab-df-convert {\n",
              "      background-color: #E8F0FE;\n",
              "      border: none;\n",
              "      border-radius: 50%;\n",
              "      cursor: pointer;\n",
              "      display: none;\n",
              "      fill: #1967D2;\n",
              "      height: 32px;\n",
              "      padding: 0 0 0 0;\n",
              "      width: 32px;\n",
              "    }\n",
              "\n",
              "    .colab-df-convert:hover {\n",
              "      background-color: #E2EBFA;\n",
              "      box-shadow: 0px 1px 2px rgba(60, 64, 67, 0.3), 0px 1px 3px 1px rgba(60, 64, 67, 0.15);\n",
              "      fill: #174EA6;\n",
              "    }\n",
              "\n",
              "    .colab-df-buttons div {\n",
              "      margin-bottom: 4px;\n",
              "    }\n",
              "\n",
              "    [theme=dark] .colab-df-convert {\n",
              "      background-color: #3B4455;\n",
              "      fill: #D2E3FC;\n",
              "    }\n",
              "\n",
              "    [theme=dark] .colab-df-convert:hover {\n",
              "      background-color: #434B5C;\n",
              "      box-shadow: 0px 1px 3px 1px rgba(0, 0, 0, 0.15);\n",
              "      filter: drop-shadow(0px 1px 2px rgba(0, 0, 0, 0.3));\n",
              "      fill: #FFFFFF;\n",
              "    }\n",
              "  </style>\n",
              "\n",
              "    <script>\n",
              "      const buttonEl =\n",
              "        document.querySelector('#df-73dc6d7e-f456-4541-a117-fd595ac7f0f7 button.colab-df-convert');\n",
              "      buttonEl.style.display =\n",
              "        google.colab.kernel.accessAllowed ? 'block' : 'none';\n",
              "\n",
              "      async function convertToInteractive(key) {\n",
              "        const element = document.querySelector('#df-73dc6d7e-f456-4541-a117-fd595ac7f0f7');\n",
              "        const dataTable =\n",
              "          await google.colab.kernel.invokeFunction('convertToInteractive',\n",
              "                                                    [key], {});\n",
              "        if (!dataTable) return;\n",
              "\n",
              "        const docLinkHtml = 'Like what you see? Visit the ' +\n",
              "          '<a target=\"_blank\" href=https://colab.research.google.com/notebooks/data_table.ipynb>data table notebook</a>'\n",
              "          + ' to learn more about interactive tables.';\n",
              "        element.innerHTML = '';\n",
              "        dataTable['output_type'] = 'display_data';\n",
              "        await google.colab.output.renderOutput(dataTable, element);\n",
              "        const docLink = document.createElement('div');\n",
              "        docLink.innerHTML = docLinkHtml;\n",
              "        element.appendChild(docLink);\n",
              "      }\n",
              "    </script>\n",
              "  </div>\n",
              "\n",
              "\n",
              "<div id=\"df-2d86988e-b58b-4d24-a674-ad8814103a03\">\n",
              "  <button class=\"colab-df-quickchart\" onclick=\"quickchart('df-2d86988e-b58b-4d24-a674-ad8814103a03')\"\n",
              "            title=\"Suggest charts\"\n",
              "            style=\"display:none;\">\n",
              "\n",
              "<svg xmlns=\"http://www.w3.org/2000/svg\" height=\"24px\"viewBox=\"0 0 24 24\"\n",
              "     width=\"24px\">\n",
              "    <g>\n",
              "        <path d=\"M19 3H5c-1.1 0-2 .9-2 2v14c0 1.1.9 2 2 2h14c1.1 0 2-.9 2-2V5c0-1.1-.9-2-2-2zM9 17H7v-7h2v7zm4 0h-2V7h2v10zm4 0h-2v-4h2v4z\"/>\n",
              "    </g>\n",
              "</svg>\n",
              "  </button>\n",
              "\n",
              "<style>\n",
              "  .colab-df-quickchart {\n",
              "      --bg-color: #E8F0FE;\n",
              "      --fill-color: #1967D2;\n",
              "      --hover-bg-color: #E2EBFA;\n",
              "      --hover-fill-color: #174EA6;\n",
              "      --disabled-fill-color: #AAA;\n",
              "      --disabled-bg-color: #DDD;\n",
              "  }\n",
              "\n",
              "  [theme=dark] .colab-df-quickchart {\n",
              "      --bg-color: #3B4455;\n",
              "      --fill-color: #D2E3FC;\n",
              "      --hover-bg-color: #434B5C;\n",
              "      --hover-fill-color: #FFFFFF;\n",
              "      --disabled-bg-color: #3B4455;\n",
              "      --disabled-fill-color: #666;\n",
              "  }\n",
              "\n",
              "  .colab-df-quickchart {\n",
              "    background-color: var(--bg-color);\n",
              "    border: none;\n",
              "    border-radius: 50%;\n",
              "    cursor: pointer;\n",
              "    display: none;\n",
              "    fill: var(--fill-color);\n",
              "    height: 32px;\n",
              "    padding: 0;\n",
              "    width: 32px;\n",
              "  }\n",
              "\n",
              "  .colab-df-quickchart:hover {\n",
              "    background-color: var(--hover-bg-color);\n",
              "    box-shadow: 0 1px 2px rgba(60, 64, 67, 0.3), 0 1px 3px 1px rgba(60, 64, 67, 0.15);\n",
              "    fill: var(--button-hover-fill-color);\n",
              "  }\n",
              "\n",
              "  .colab-df-quickchart-complete:disabled,\n",
              "  .colab-df-quickchart-complete:disabled:hover {\n",
              "    background-color: var(--disabled-bg-color);\n",
              "    fill: var(--disabled-fill-color);\n",
              "    box-shadow: none;\n",
              "  }\n",
              "\n",
              "  .colab-df-spinner {\n",
              "    border: 2px solid var(--fill-color);\n",
              "    border-color: transparent;\n",
              "    border-bottom-color: var(--fill-color);\n",
              "    animation:\n",
              "      spin 1s steps(1) infinite;\n",
              "  }\n",
              "\n",
              "  @keyframes spin {\n",
              "    0% {\n",
              "      border-color: transparent;\n",
              "      border-bottom-color: var(--fill-color);\n",
              "      border-left-color: var(--fill-color);\n",
              "    }\n",
              "    20% {\n",
              "      border-color: transparent;\n",
              "      border-left-color: var(--fill-color);\n",
              "      border-top-color: var(--fill-color);\n",
              "    }\n",
              "    30% {\n",
              "      border-color: transparent;\n",
              "      border-left-color: var(--fill-color);\n",
              "      border-top-color: var(--fill-color);\n",
              "      border-right-color: var(--fill-color);\n",
              "    }\n",
              "    40% {\n",
              "      border-color: transparent;\n",
              "      border-right-color: var(--fill-color);\n",
              "      border-top-color: var(--fill-color);\n",
              "    }\n",
              "    60% {\n",
              "      border-color: transparent;\n",
              "      border-right-color: var(--fill-color);\n",
              "    }\n",
              "    80% {\n",
              "      border-color: transparent;\n",
              "      border-right-color: var(--fill-color);\n",
              "      border-bottom-color: var(--fill-color);\n",
              "    }\n",
              "    90% {\n",
              "      border-color: transparent;\n",
              "      border-bottom-color: var(--fill-color);\n",
              "    }\n",
              "  }\n",
              "</style>\n",
              "\n",
              "  <script>\n",
              "    async function quickchart(key) {\n",
              "      const quickchartButtonEl =\n",
              "        document.querySelector('#' + key + ' button');\n",
              "      quickchartButtonEl.disabled = true;  // To prevent multiple clicks.\n",
              "      quickchartButtonEl.classList.add('colab-df-spinner');\n",
              "      try {\n",
              "        const charts = await google.colab.kernel.invokeFunction(\n",
              "            'suggestCharts', [key], {});\n",
              "      } catch (error) {\n",
              "        console.error('Error during call to suggestCharts:', error);\n",
              "      }\n",
              "      quickchartButtonEl.classList.remove('colab-df-spinner');\n",
              "      quickchartButtonEl.classList.add('colab-df-quickchart-complete');\n",
              "    }\n",
              "    (() => {\n",
              "      let quickchartButtonEl =\n",
              "        document.querySelector('#df-2d86988e-b58b-4d24-a674-ad8814103a03 button');\n",
              "      quickchartButtonEl.style.display =\n",
              "        google.colab.kernel.accessAllowed ? 'block' : 'none';\n",
              "    })();\n",
              "  </script>\n",
              "</div>\n",
              "    </div>\n",
              "  </div>\n"
            ]
          },
          "metadata": {},
          "execution_count": 238
        }
      ],
      "source": [
        "X_train.head()"
      ]
    },
    {
      "cell_type": "code",
      "execution_count": 239,
      "metadata": {
        "colab": {
          "base_uri": "https://localhost:8080/"
        },
        "id": "1xXoV1dSU_t6",
        "outputId": "d69429db-08e3-4ac1-81f5-2f77520846db"
      },
      "outputs": [
        {
          "output_type": "execute_result",
          "data": {
            "text/plain": [
              "6117     no\n",
              "37624    no\n",
              "28712    no\n",
              "26172    no\n",
              "20796    no\n",
              "Name: y, dtype: object"
            ]
          },
          "metadata": {},
          "execution_count": 239
        }
      ],
      "source": [
        "y_train.sample(5)"
      ]
    },
    {
      "cell_type": "markdown",
      "metadata": {
        "id": "NmIK-rZVUyiu"
      },
      "source": [
        "## Target"
      ]
    },
    {
      "cell_type": "markdown",
      "metadata": {
        "id": "-PdAJD7-DKvf"
      },
      "source": [
        "Заменяем значения целевой переменной на 0 и 1."
      ]
    },
    {
      "cell_type": "code",
      "execution_count": 240,
      "metadata": {
        "id": "ZlG7wM5AKJqf"
      },
      "outputs": [],
      "source": [
        "y_train = y_train.map({'no' : 0, 'yes' : 1})\n",
        "y_test = y_test.map({'no' : 0, 'yes' : 1})"
      ]
    },
    {
      "cell_type": "code",
      "execution_count": 241,
      "metadata": {
        "colab": {
          "base_uri": "https://localhost:8080/"
        },
        "id": "AYaYg3ZaVURY",
        "outputId": "f5db92ab-29c0-415d-f346-cfab0b51c3ef"
      },
      "outputs": [
        {
          "output_type": "execute_result",
          "data": {
            "text/plain": [
              "14287    0\n",
              "31191    1\n",
              "28069    0\n",
              "9110     0\n",
              "38604    0\n",
              "Name: y, dtype: int64"
            ]
          },
          "metadata": {},
          "execution_count": 241
        }
      ],
      "source": [
        "y_train.sample(5)"
      ]
    },
    {
      "cell_type": "markdown",
      "metadata": {
        "id": "OC2C7hwmVLf-"
      },
      "source": [
        "## Age"
      ]
    },
    {
      "cell_type": "markdown",
      "metadata": {
        "id": "HsLLkCIdDlTm"
      },
      "source": [
        "Проверим на отсутствие незаполненных полей."
      ]
    },
    {
      "cell_type": "code",
      "execution_count": 242,
      "metadata": {
        "colab": {
          "base_uri": "https://localhost:8080/"
        },
        "id": "uaUm_n8KWJyk",
        "outputId": "3328fd78-3b60-4702-b1f2-ce65cab0d5e8"
      },
      "outputs": [
        {
          "output_type": "execute_result",
          "data": {
            "text/plain": [
              "False"
            ]
          },
          "metadata": {},
          "execution_count": 242
        }
      ],
      "source": [
        "X['age'].isna().any()"
      ]
    },
    {
      "cell_type": "code",
      "execution_count": 243,
      "metadata": {
        "colab": {
          "base_uri": "https://localhost:8080/",
          "height": 392
        },
        "id": "tZpjPMGSVfo7",
        "outputId": "70ab6d5d-bd50-487c-95fb-3286e3dd8c8d"
      },
      "outputs": [
        {
          "output_type": "display_data",
          "data": {
            "text/plain": [
              "<Figure size 2000x500 with 1 Axes>"
            ],
            "image/png": "[encoded data removed]"
          },
          "metadata": {}
        }
      ],
      "source": [
        "fig = plt.figure(figsize=(20, 5))\n",
        "sns.countplot(data=X_train, x='age');"
      ]
    },
    {
      "cell_type": "markdown",
      "metadata": {
        "id": "VVEZ0S-JJzMK"
      },
      "source": [
        "Нарисуем график зависимости среднего значения целевой переменной от возраста."
      ]
    },
    {
      "cell_type": "code",
      "execution_count": 244,
      "metadata": {
        "id": "QR1CmgYwXcc8"
      },
      "outputs": [],
      "source": [
        "def mean_target_by_feature(feature_column):\n",
        "    mean_target = pd.concat([feature_column, y_train], axis=1).groupby(feature_column.name, as_index=False).mean()\n",
        "    return sns.lineplot(x=mean_target.iloc[:, 0], y=mean_target.iloc[:, 1])"
      ]
    },
    {
      "cell_type": "code",
      "execution_count": 245,
      "metadata": {
        "colab": {
          "base_uri": "https://localhost:8080/",
          "height": 449
        },
        "id": "Q_nL_A2CYf-6",
        "outputId": "6670c518-5732-41d0-9e84-6af6a82a09fc"
      },
      "outputs": [
        {
          "output_type": "display_data",
          "data": {
            "text/plain": [
              "<Figure size 640x480 with 1 Axes>"
            ],
            "image/png": "[encoded data removed]"
          },
          "metadata": {}
        }
      ],
      "source": [
        "mean_target_by_feature(X_train['age']);"
      ]
    },
    {
      "cell_type": "markdown",
      "metadata": {
        "id": "_PMf9QIqKB1R"
      },
      "source": [
        "Линейной зависимости не наблюдается. Попробуем решить эту проблему."
      ]
    },
    {
      "cell_type": "markdown",
      "metadata": {
        "id": "X6aNxn7Igp3i"
      },
      "source": [
        "Сгруппируем значения признака 'age' по десяткам лет (0-9, 10-19 и т.д.), $x$ → $x$ // 10 = $x'$. Теперь сформируем новый признак new_age_feature, который будет равняться $\\frac{1}{30}(x')^2 - \\frac{8}{30}x' + \\frac{19}{30}$. Ниже виден график зависимости доли успехов ($y=1$) от признака new_age_feature. Теперь зависимость на графике близка к линейной.  "
      ]
    },
    {
      "cell_type": "code",
      "execution_count": 246,
      "metadata": {
        "colab": {
          "base_uri": "https://localhost:8080/",
          "height": 449
        },
        "id": "tNTC80Goa1FS",
        "outputId": "ebe8ef1e-c6a9-4edb-ab3a-0be5a5036c50"
      },
      "outputs": [
        {
          "output_type": "display_data",
          "data": {
            "text/plain": [
              "<Figure size 640x480 with 1 Axes>"
            ],
            "image/png": "[encoded data removed]"
          },
          "metadata": {}
        }
      ],
      "source": [
        "new_age_feature = (X_train['age'] // 10) ** 2 / 30 - 8 * (X_train['age'] // 10) / 30 + 19 / 30\n",
        "mean_target_by_feature(new_age_feature);"
      ]
    },
    {
      "cell_type": "markdown",
      "metadata": {
        "id": "IW7xRLKBmxxk"
      },
      "source": [
        "Заменяем признак 'age' на 'new_age_feature'."
      ]
    },
    {
      "cell_type": "code",
      "execution_count": 247,
      "metadata": {
        "id": "5QytcyGJbPpO"
      },
      "outputs": [],
      "source": [
        "X_train['age'] = new_age_feature\n",
        "X_test['age'] = (X_test['age'] // 10) ** 2 / 30 - 8 * (X_test['age'] // 10) / 30 + 19 / 30"
      ]
    },
    {
      "cell_type": "markdown",
      "metadata": {
        "id": "uJhycLRVb3FF"
      },
      "source": [
        "## Job"
      ]
    },
    {
      "cell_type": "markdown",
      "metadata": {
        "id": "VyZoxYlBK_c3"
      },
      "source": [
        "Посчитаем количество пропущенных значений"
      ]
    },
    {
      "cell_type": "code",
      "execution_count": 248,
      "metadata": {
        "colab": {
          "base_uri": "https://localhost:8080/"
        },
        "id": "C6Z_NCi_cCtG",
        "outputId": "888b0fd9-ec5b-432c-ea7f-859c49b435c0"
      },
      "outputs": [
        {
          "output_type": "execute_result",
          "data": {
            "text/plain": [
              "288"
            ]
          },
          "metadata": {},
          "execution_count": 248
        }
      ],
      "source": [
        "X['job'].isna().sum()"
      ]
    },
    {
      "cell_type": "markdown",
      "metadata": {
        "id": "D2Ua6BPmnFai"
      },
      "source": [
        "В признаке 'job' оказалось всего 288 незаполненных полей, что составляет около 0.05% от =датасета, что позволяет нам выбросить строки с пропущенными значениями в столбце 'job'."
      ]
    },
    {
      "cell_type": "code",
      "execution_count": 249,
      "metadata": {
        "id": "AeOvrzqvLlOA"
      },
      "outputs": [],
      "source": [
        "y_train = y_train[pd.notna(X_train['job'])]\n",
        "y_test = y_test[pd.notna(X_test['job'])]\n",
        "X_train = X_train[pd.notna(X_train['job'])]\n",
        "X_test = X_test[pd.notna(X_test['job'])]"
      ]
    },
    {
      "cell_type": "code",
      "execution_count": 250,
      "metadata": {
        "colab": {
          "base_uri": "https://localhost:8080/",
          "height": 465
        },
        "id": "vEJiooGCprwm",
        "outputId": "b3cbdeae-29a6-44e3-f500-3ce170710ec9"
      },
      "outputs": [
        {
          "output_type": "display_data",
          "data": {
            "text/plain": [
              "<Figure size 1500x500 with 1 Axes>"
            ],
            "image/png": "[encoded data removed]"
          },
          "metadata": {}
        }
      ],
      "source": [
        "fig = plt.figure(figsize=(15, 5))\n",
        "sns.barplot(x=X_train['job'], y=y_train);"
      ]
    },
    {
      "cell_type": "markdown",
      "metadata": {
        "id": "5QOx8ywucjJs"
      },
      "source": [
        "## Marital"
      ]
    },
    {
      "cell_type": "code",
      "execution_count": 251,
      "metadata": {
        "colab": {
          "base_uri": "https://localhost:8080/"
        },
        "id": "gIqmg3atclTy",
        "outputId": "97abb9be-d3fb-48b3-ea8a-b1b56946f5a0"
      },
      "outputs": [
        {
          "output_type": "execute_result",
          "data": {
            "text/plain": [
              "False"
            ]
          },
          "metadata": {},
          "execution_count": 251
        }
      ],
      "source": [
        "X['marital'].isna().any()"
      ]
    },
    {
      "cell_type": "markdown",
      "metadata": {
        "id": "BYe3Dv85obqI"
      },
      "source": [
        "Нет незаполненных полей."
      ]
    },
    {
      "cell_type": "code",
      "execution_count": 252,
      "metadata": {
        "colab": {
          "base_uri": "https://localhost:8080/",
          "height": 449
        },
        "id": "EJiagVdzcv93",
        "outputId": "223e16a3-8773-4203-c8de-c5b92accc456"
      },
      "outputs": [
        {
          "output_type": "display_data",
          "data": {
            "text/plain": [
              "<Figure size 640x480 with 1 Axes>"
            ],
            "image/png": "[encoded data removed]"
          },
          "metadata": {}
        }
      ],
      "source": [
        "sns.barplot(x=X_train['marital'], y=y_train);"
      ]
    },
    {
      "cell_type": "markdown",
      "metadata": {
        "id": "cE82QFHbot03"
      },
      "source": [
        "На диаграмме выше видим распределение среднего значения целевой переменной по всем возможным статусам поля 'marital'."
      ]
    },
    {
      "cell_type": "markdown",
      "metadata": {
        "id": "h52vX5AqfxfP"
      },
      "source": [
        "## Default"
      ]
    },
    {
      "cell_type": "code",
      "execution_count": 253,
      "metadata": {
        "colab": {
          "base_uri": "https://localhost:8080/"
        },
        "id": "J7RUG3p0f0QI",
        "outputId": "8750bd98-95fd-45a5-c8f6-05f97c27beb6"
      },
      "outputs": [
        {
          "output_type": "execute_result",
          "data": {
            "text/plain": [
              "0"
            ]
          },
          "metadata": {},
          "execution_count": 253
        }
      ],
      "source": [
        "X['default'].isna().sum()"
      ]
    },
    {
      "cell_type": "code",
      "execution_count": 254,
      "metadata": {
        "id": "zb5ObWyXKqCM"
      },
      "outputs": [],
      "source": [
        "X_train['default'] = X_train['default'].map({'no' : 0, 'yes' : 1})\n",
        "X_test['default'] = X_test['default'].map({'no' : 0, 'yes' : 1})"
      ]
    },
    {
      "cell_type": "markdown",
      "metadata": {
        "id": "aMnBR7m2aSCr"
      },
      "source": [
        "Nan отсутствуют, преобразуем значения из текста в числа и выведем результат на диаграмму."
      ]
    },
    {
      "cell_type": "code",
      "execution_count": 255,
      "metadata": {
        "colab": {
          "base_uri": "https://localhost:8080/",
          "height": 449
        },
        "id": "zE4Dr7XmgfJd",
        "outputId": "273899ca-a217-4d16-d1a9-b5ea1f3e0fab"
      },
      "outputs": [
        {
          "output_type": "display_data",
          "data": {
            "text/plain": [
              "<Figure size 640x480 with 1 Axes>"
            ],
            "image/png": "[encoded data removed]"
          },
          "metadata": {}
        }
      ],
      "source": [
        "sns.barplot(x=X_train['default'], y=y_train);"
      ]
    },
    {
      "cell_type": "markdown",
      "metadata": {
        "id": "NX8QVkMqLa3U"
      },
      "source": [
        "## Housing"
      ]
    },
    {
      "cell_type": "code",
      "execution_count": 256,
      "metadata": {
        "colab": {
          "base_uri": "https://localhost:8080/"
        },
        "id": "cCZn3gfhLa3U",
        "outputId": "b92c8556-4dec-40f7-fa3a-f2f9309da487"
      },
      "outputs": [
        {
          "output_type": "execute_result",
          "data": {
            "text/plain": [
              "False"
            ]
          },
          "metadata": {},
          "execution_count": 256
        }
      ],
      "source": [
        "X['housing'].isna().any()"
      ]
    },
    {
      "cell_type": "code",
      "execution_count": 257,
      "metadata": {
        "id": "LA5bRwT9La3V"
      },
      "outputs": [],
      "source": [
        "X_train['housing'] = X_train['housing'].map({'no' : 0, 'yes' : 1})\n",
        "X_test['housing'] = X_test['housing'].map({'no' : 0, 'yes' : 1})"
      ]
    },
    {
      "cell_type": "markdown",
      "metadata": {
        "id": "LohdqooQeoNS"
      },
      "source": [
        "Проверили на отсутствие незаполненности, преобразовали текстовые данные из колонки 'housing' в числовые, выведем итог на диаграмме."
      ]
    },
    {
      "cell_type": "code",
      "execution_count": 258,
      "metadata": {
        "colab": {
          "base_uri": "https://localhost:8080/",
          "height": 466
        },
        "id": "7CMAPS06cAsB",
        "outputId": "eade4759-ab67-4447-e6b5-4a46c52ce36f",
        "scrolled": true
      },
      "outputs": [
        {
          "output_type": "execute_result",
          "data": {
            "text/plain": [
              "<Axes: xlabel='housing', ylabel='y'>"
            ]
          },
          "metadata": {},
          "execution_count": 258
        },
        {
          "output_type": "display_data",
          "data": {
            "text/plain": [
              "<Figure size 640x480 with 1 Axes>"
            ],
            "image/png": "[encoded data removed]"
          },
          "metadata": {}
        }
      ],
      "source": [
        "sns.barplot(x=X_train['housing'], y=y_train)"
      ]
    },
    {
      "cell_type": "markdown",
      "metadata": {
        "id": "Y9t92e_2La3X"
      },
      "source": [
        "## Month"
      ]
    },
    {
      "cell_type": "code",
      "execution_count": 259,
      "metadata": {
        "colab": {
          "base_uri": "https://localhost:8080/"
        },
        "id": "8xNUXqrkLa3X",
        "outputId": "1366b624-70a3-4040-d7e2-a7d43b9709bf"
      },
      "outputs": [
        {
          "output_type": "execute_result",
          "data": {
            "text/plain": [
              "False"
            ]
          },
          "metadata": {},
          "execution_count": 259
        }
      ],
      "source": [
        "X['month'].isna().any()"
      ]
    },
    {
      "cell_type": "code",
      "execution_count": 260,
      "metadata": {
        "colab": {
          "base_uri": "https://localhost:8080/",
          "height": 465
        },
        "id": "t_t0HryJLa3Y",
        "outputId": "93426f70-df9d-4931-a1e0-404b39d81430"
      },
      "outputs": [
        {
          "output_type": "display_data",
          "data": {
            "text/plain": [
              "<Figure size 1500x500 with 1 Axes>"
            ],
            "image/png": "[encoded data removed]"
          },
          "metadata": {}
        }
      ],
      "source": [
        "fig = plt.figure(figsize=(15, 5))\n",
        "sns.barplot(x=X_train['month'], y=y_train);"
      ]
    },
    {
      "cell_type": "markdown",
      "metadata": {
        "id": "k9M3O0J4RBlN"
      },
      "source": [
        "Аналогично предыдущему признаку используем Mean Target Encoding вместо One-Hot Encoding, ввиду большого количества различных значений признака."
      ]
    },
    {
      "cell_type": "code",
      "execution_count": 261,
      "metadata": {
        "id": "3l4FcbHZLa3Y"
      },
      "outputs": [],
      "source": [
        "target_enc_month = TargetEncoder()\n",
        "X_train['month'] = target_enc_month.fit_transform(X_train['month'].map(str), y_train)\n",
        "X_test['month'] = target_enc_month.transform(X_test['month'].map(str))"
      ]
    },
    {
      "cell_type": "markdown",
      "metadata": {
        "id": "RZBHovWgLa3Z"
      },
      "source": [
        "## Loan"
      ]
    },
    {
      "cell_type": "code",
      "execution_count": 262,
      "metadata": {
        "colab": {
          "base_uri": "https://localhost:8080/"
        },
        "id": "anKcxFl1La3Z",
        "outputId": "2cd8b5de-ad1c-4655-df6b-7bc3db58653f"
      },
      "outputs": [
        {
          "output_type": "execute_result",
          "data": {
            "text/plain": [
              "False"
            ]
          },
          "metadata": {},
          "execution_count": 262
        }
      ],
      "source": [
        "X['loan'].isna().any()"
      ]
    },
    {
      "cell_type": "code",
      "execution_count": 263,
      "metadata": {
        "id": "RfYLzazJLa3Z"
      },
      "outputs": [],
      "source": [
        "X_train['loan'] = X_train['loan'].map({'no' : 0, 'yes' : 1})\n",
        "X_test['loan'] = X_test['loan'].map({'no' : 0, 'yes' : 1})"
      ]
    },
    {
      "cell_type": "markdown",
      "metadata": {
        "id": "L-j6aPuxglA-"
      },
      "source": [
        "Нет Nan-ов, преобразовали текстовые данные из колонки 'loan' в числовые, выведем итог на диаграмме."
      ]
    },
    {
      "cell_type": "code",
      "execution_count": 264,
      "metadata": {
        "colab": {
          "base_uri": "https://localhost:8080/",
          "height": 466
        },
        "id": "8wREe-G5La3Z",
        "outputId": "29576cdc-6a87-4177-8f40-eb0af81fd93c"
      },
      "outputs": [
        {
          "output_type": "execute_result",
          "data": {
            "text/plain": [
              "<Axes: xlabel='loan', ylabel='y'>"
            ]
          },
          "metadata": {},
          "execution_count": 264
        },
        {
          "output_type": "display_data",
          "data": {
            "text/plain": [
              "<Figure size 640x480 with 1 Axes>"
            ],
            "image/png": "[encoded data removed]"
          },
          "metadata": {}
        }
      ],
      "source": [
        "sns.barplot(x=X_train['loan'], y=y_train)"
      ]
    },
    {
      "cell_type": "markdown",
      "metadata": {
        "id": "F8U_y_gdnsv_"
      },
      "source": [
        "## Campaign"
      ]
    },
    {
      "cell_type": "code",
      "execution_count": 265,
      "metadata": {
        "colab": {
          "base_uri": "https://localhost:8080/"
        },
        "id": "2Vgl-Mrsn-ee",
        "outputId": "6da20ff9-a19f-4c19-a008-9ed68ddf01ee"
      },
      "outputs": [
        {
          "output_type": "execute_result",
          "data": {
            "text/plain": [
              "False"
            ]
          },
          "metadata": {},
          "execution_count": 265
        }
      ],
      "source": [
        "X['campaign'].isna().any()"
      ]
    },
    {
      "cell_type": "code",
      "execution_count": 266,
      "metadata": {
        "colab": {
          "base_uri": "https://localhost:8080/"
        },
        "id": "3f508m6boC-W",
        "outputId": "bc21d1b1-84d4-42f2-c53a-654cd7be2af4"
      },
      "outputs": [
        {
          "output_type": "execute_result",
          "data": {
            "text/plain": [
              "count    35929.000000\n",
              "mean         2.767987\n",
              "std          3.085041\n",
              "min          1.000000\n",
              "25%          1.000000\n",
              "50%          2.000000\n",
              "75%          3.000000\n",
              "max         58.000000\n",
              "Name: campaign, dtype: float64"
            ]
          },
          "metadata": {},
          "execution_count": 266
        }
      ],
      "source": [
        "X_train['campaign'].describe()"
      ]
    },
    {
      "cell_type": "code",
      "execution_count": 267,
      "metadata": {
        "colab": {
          "base_uri": "https://localhost:8080/"
        },
        "id": "nQlMJrycocJX",
        "outputId": "fa799583-f6c1-47ae-b5f0-d60a1dab398e"
      },
      "outputs": [
        {
          "output_type": "execute_result",
          "data": {
            "text/plain": [
              "54"
            ]
          },
          "metadata": {},
          "execution_count": 267
        }
      ],
      "source": [
        "X_train[X_train['campaign'] >= 30].shape[0]"
      ]
    },
    {
      "cell_type": "markdown",
      "metadata": {
        "id": "Co9EqhRkhdHA"
      },
      "source": [
        "Назовем выбросами те образцы, у которых поле 'campaign' больше 30, т.к. таких полей всего 54 и выбросим их из тренировочной выборки. Агрегируем значения признака следующим образом: X['campaign'] // 5, выведем на графике соответствующие группам средние значения целевой переменной, получаем что-то похожее на линейную зависимость."
      ]
    },
    {
      "cell_type": "code",
      "execution_count": 268,
      "metadata": {
        "id": "OuPcJTYjorOX"
      },
      "outputs": [],
      "source": [
        "y_train = y_train[X_train['campaign'] < 30]\n",
        "X_train = X_train[X_train['campaign'] < 30]"
      ]
    },
    {
      "cell_type": "code",
      "execution_count": 269,
      "metadata": {
        "colab": {
          "base_uri": "https://localhost:8080/",
          "height": 466
        },
        "id": "6MHChNbhpADJ",
        "outputId": "1a1c0b86-c0c4-4a2e-dd38-4b42ccb0d9cf"
      },
      "outputs": [
        {
          "output_type": "execute_result",
          "data": {
            "text/plain": [
              "<Axes: xlabel='campaign', ylabel='y'>"
            ]
          },
          "metadata": {},
          "execution_count": 269
        },
        {
          "output_type": "display_data",
          "data": {
            "text/plain": [
              "<Figure size 640x480 with 1 Axes>"
            ],
            "image/png": "[encoded data removed]"
          },
          "metadata": {}
        }
      ],
      "source": [
        "mean_target_by_feature(X_train['campaign'] // 5)"
      ]
    },
    {
      "cell_type": "code",
      "execution_count": 270,
      "metadata": {
        "id": "DvHFmztspiKs"
      },
      "outputs": [],
      "source": [
        "X_train['campaign'] = X_train['campaign'] // 5\n",
        "X_test['campaign'] = X_test['campaign'] // 5"
      ]
    },
    {
      "cell_type": "markdown",
      "metadata": {
        "id": "Llx56JkjprfY"
      },
      "source": [
        "## Pdays"
      ]
    },
    {
      "cell_type": "code",
      "execution_count": 271,
      "metadata": {
        "colab": {
          "base_uri": "https://localhost:8080/"
        },
        "id": "jCg1d25HqQ4v",
        "outputId": "9ceb499a-2756-4b95-bb71-7716b8f16980"
      },
      "outputs": [
        {
          "output_type": "execute_result",
          "data": {
            "text/plain": [
              "False"
            ]
          },
          "metadata": {},
          "execution_count": 271
        }
      ],
      "source": [
        "X['pdays'].isna().any()"
      ]
    },
    {
      "cell_type": "markdown",
      "metadata": {
        "id": "D5JZQd9Kx-rp"
      },
      "source": [
        "## Previous"
      ]
    },
    {
      "cell_type": "code",
      "execution_count": 272,
      "metadata": {
        "colab": {
          "base_uri": "https://localhost:8080/"
        },
        "id": "jxUHnXVWyAXR",
        "outputId": "ac155a6f-763e-42ae-82eb-347ce243de71"
      },
      "outputs": [
        {
          "output_type": "execute_result",
          "data": {
            "text/plain": [
              "False"
            ]
          },
          "metadata": {},
          "execution_count": 272
        }
      ],
      "source": [
        "X['previous'].isna().any()"
      ]
    },
    {
      "cell_type": "markdown",
      "metadata": {
        "id": "rz21fb0MLa3d"
      },
      "source": [
        "## Poutcome"
      ]
    },
    {
      "cell_type": "code",
      "execution_count": 273,
      "metadata": {
        "colab": {
          "base_uri": "https://localhost:8080/"
        },
        "id": "cxMq9xM0La3d",
        "outputId": "a295682a-2c17-4f3d-95f5-8e71cc62b65c"
      },
      "outputs": [
        {
          "output_type": "execute_result",
          "data": {
            "text/plain": [
              "36959"
            ]
          },
          "metadata": {},
          "execution_count": 273
        }
      ],
      "source": [
        "X['poutcome'].isna().sum()"
      ]
    },
    {
      "cell_type": "markdown",
      "metadata": {
        "id": "FMncoQvnMuXW"
      },
      "source": [
        "Заметим, что в признаке 'poutcome' большое число незаполненных полей, поэтому, чтобы не терять информацию, будем воспринимать их как отдельное значение признака 'poutcome'."
      ]
    },
    {
      "cell_type": "code",
      "execution_count": 274,
      "metadata": {
        "colab": {
          "base_uri": "https://localhost:8080/",
          "height": 466
        },
        "id": "KipU7ruocoAS",
        "outputId": "7fafe8f8-8b3b-42d8-9287-048b29f1a06b"
      },
      "outputs": [
        {
          "output_type": "execute_result",
          "data": {
            "text/plain": [
              "<Axes: xlabel='poutcome', ylabel='y'>"
            ]
          },
          "metadata": {},
          "execution_count": 274
        },
        {
          "output_type": "display_data",
          "data": {
            "text/plain": [
              "<Figure size 640x480 with 1 Axes>"
            ],
            "image/png": "[encoded data removed]"
          },
          "metadata": {}
        }
      ],
      "source": [
        "sns.barplot(x=X_train['poutcome'].fillna('nan'), y=y_train)"
      ]
    },
    {
      "cell_type": "code",
      "execution_count": 275,
      "metadata": {
        "id": "xVj2xc5XLa3e"
      },
      "outputs": [],
      "source": [
        "X_train['poutcome'] = X_train['poutcome'].fillna('unknown')\n",
        "X_test['poutcome'] = X_test['poutcome'].fillna('unknown')"
      ]
    },
    {
      "cell_type": "markdown",
      "metadata": {
        "id": "jMQ4KSz4La3e"
      },
      "source": [
        "## Duration"
      ]
    },
    {
      "cell_type": "markdown",
      "metadata": {
        "id": "i3_AhN4_TRsp"
      },
      "source": [
        "Выбросим данный столбец в связи с тем, что в описании датасета указано следующее: \"Important note: this attribute highly affects the output target (e.g., if duration=0 then y='no'). Yet, the duration is not known before a call is performed. Also, after the end of the call y is obviously known. Thus, this input should only be included for benchmark purposes and should be discarded if the intention is to have a realistic predictive model.\""
      ]
    },
    {
      "cell_type": "code",
      "execution_count": 276,
      "metadata": {
        "id": "qMzAweLLLa3e"
      },
      "outputs": [],
      "source": [
        "X_train.drop(columns=['duration'], inplace=True)\n",
        "X_test.drop(columns=['duration'], inplace=True)"
      ]
    }
  ],
  "metadata": {
    "colab": {
      "provenance": []
    },
    "kernelspec": {
      "display_name": "Python 3",
      "name": "python3"
    },
    "language_info": {
      "codemirror_mode": {
        "name": "ipython",
        "version": 3
      },
      "file_extension": ".py",
      "mimetype": "text/x-python",
      "name": "python",
      "nbconvert_exporter": "python",
      "pygments_lexer": "ipython3",
      "version": "3.9.7"
    }
  },
  "nbformat": 4,
  "nbformat_minor": 0
}